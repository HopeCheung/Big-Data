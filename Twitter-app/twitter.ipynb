{
 "cells": [
  {
   "cell_type": "code",
   "execution_count": 6,
   "metadata": {},
   "outputs": [],
   "source": [
    "import findspark\n",
    "findspark.init()\n",
    "from pyspark import SparkConf, SparkContext\n",
    "from pyspark.streaming import StreamingContext\n",
    "from pyspark.sql import Row,SQLContext\n",
    "import sys\n",
    "import requests\n"
   ]
  },
  {
   "cell_type": "code",
   "execution_count": null,
   "metadata": {},
   "outputs": [],
   "source": [
    "conf = SparkConf()\n",
    "conf.setMaster('local[2]')\n",
    "conf.setAppName(\"TwitterStreamApp1\")\n",
    "sc = SparkContext(conf=conf)\n",
    "sc.setLogLevel(\"Error\")\n",
    "ssc = StreamingContext(sc, 1)\n",
    "ssc.checkpoint(\"checkpoint_TwitterApp\")\n",
    "dataStream = ssc.socketTextStream(\"localhost\",9009)\n",
    "\n",
    "def sum_tags_count(new_values,total_sum):\n",
    "    return sum(new_values)+(total_sum or 0)\n",
    "def get_sql_context_instance(spark_context):\n",
    "    if('sqlContextSingletonInstance' not in globals()):\n",
    "        globals()['sqlContextSingletonInstance'] = SQLContext(spark_context)\n",
    "    return globals()['sqlContextSingletonInstance']\n",
    "def process_rdd(time,rdd):\n",
    "    print(\"-----------%s-----------\"%str(time))\n",
    "    try:\n",
    "        #Get spark sql singleton context from the current context\n",
    "        sql_context=get_sql_context_instance(rdd.context)\n",
    "        #converttheRDDtoRowRDD\n",
    "        row_rdd=rdd.map(lambda w:Row(hashtag=w[0],hashtag_count=w[1]))\n",
    "        #create a DF from the Row RDD\n",
    "        hashtags_df = sql_context.createDataFrame(row_rdd)\n",
    "        #Register the dataframe as table\n",
    "        hashtags_df.registerTempTable(\"hashtags\")\n",
    "        #get the top10 hashtags from the table using SQL and print them\n",
    "        hashtag_counts_df = sql_context.sql(\"select hashtag, hashtag_count from hashtags where hashtag in \\\n",
    "                                            ('#movie', '#Trump','#game', '#girl', '#art', '#dog', '#Dota'\\\n",
    "                                             '#cs', '#music', '#class')\")\n",
    "        hashtag_counts_df.show()\n",
    "    except:\n",
    "        e=sys.exc_info()[0]\n",
    "        print(e)\n",
    "    #finally:\n",
    "        #hashtag_counts_df.show()"
   ]
  },
  {
   "cell_type": "code",
   "execution_count": null,
   "metadata": {},
   "outputs": [],
   "source": [
    "words = dataStream.flatMap(lambda line: line.split(\" \"))\n",
    "hashtags = words.filter(lambda w: '#' in w).map(lambda x:(x, 1))\n",
    "tags_totals = hashtags.updateStateByKey(sum_tags_count)\n",
    "tags_totals.foreachRDD(process_rdd)\n",
    "ssc.start()\n",
    "ssc.awaitTermination()"
   ]
  },
  {
   "cell_type": "code",
   "execution_count": null,
   "metadata": {},
   "outputs": [],
   "source": []
  }
 ],
 "metadata": {
  "kernelspec": {
   "display_name": "Python 3",
   "language": "python",
   "name": "python3"
  },
  "language_info": {
   "codemirror_mode": {
    "name": "ipython",
    "version": 3
   },
   "file_extension": ".py",
   "mimetype": "text/x-python",
   "name": "python",
   "nbconvert_exporter": "python",
   "pygments_lexer": "ipython3",
   "version": "3.6.4"
  }
 },
 "nbformat": 4,
 "nbformat_minor": 2
}
